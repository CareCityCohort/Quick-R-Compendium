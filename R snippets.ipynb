{
 "cells": [
  {
   "cell_type": "markdown",
   "metadata": {},
   "source": [
    "## Setting up Jupyter notebook for R\n",
    "\n",
    "* Switch warnings off\n",
    "\n",
    "* Print everything you run in the cell, not just the last action\n",
    "\n",
    "* Set width so you can see your whole dataframe - can fill in whichever numbers you like"
   ]
  },
  {
   "cell_type": "code",
   "execution_count": 2,
   "metadata": {},
   "outputs": [],
   "source": [
    "# switch warnings off (0 to switch back on)\n",
    "options(warn=-1)\n",
    "\n",
    "# print everything in cell, not just last\n",
    "InteractiveShell.ast_node_interactivity = 'all'\n",
    "\n",
    "#set width so you can see all dataframe columns\n",
    "options(repr.matrix.max.cols=50, repr.matrix.max.rows=100)\n"
   ]
  },
  {
   "cell_type": "markdown",
   "metadata": {},
   "source": [
    "## R libraries for these functions and snippets\n",
    "\n",
    "* Note that order in which you import dplyr and plyr makes a difference!"
   ]
  },
  {
   "cell_type": "code",
   "execution_count": null,
   "metadata": {},
   "outputs": [],
   "source": [
    "library(dplyr)\n",
    "library(plyr)\n",
    "library(tidyr)\n",
    "library(readxl)\n",
    "library (magrittr)\n",
    "library(openxlsx)\n",
    "library(tidyverse)\n",
    "library(chron)\n",
    "library(zoo)\n",
    "library(stringr)\n",
    "library(janitor)\n",
    "library(lubridate)\n",
    "library(anytime)"
   ]
  },
  {
   "cell_type": "markdown",
   "metadata": {},
   "source": [
    "## 1. A helper function to import a csv\n",
    "\n",
    "* This creates a column with a fixed value in a dataframe and specifies which strings to treat as NA"
   ]
  },
  {
   "cell_type": "code",
   "execution_count": 21,
   "metadata": {},
   "outputs": [],
   "source": [
    "# create csv helper function so can add column\n",
    "\n",
    "read_csv_filename <-function(filename, year) {\n",
    "    csv_help <- read.csv(file=filename, na.strings=c(\"\", \"n/a\", \"NULL\", \"NA\"), stringsAsFactors=FALSE)\n",
    "    csv_help$max_year <- year\n",
    "    csv_help\n",
    "}\n",
    "\n",
    "\n",
    "# run the function as follows\n",
    "\n",
    "df <- read_csv_filename('C/Amber/Desktop/data.csv', 2018)"
   ]
  },
  {
   "cell_type": "markdown",
   "metadata": {},
   "source": [
    "## 2. A function that checks if dataframes have the same field names and datatypes\n",
    "\n",
    "* This is useful if you want to append dataframes or maintain consistency between multiple similar dataframes, such as multiple years of the same dataset"
   ]
  },
  {
   "cell_type": "code",
   "execution_count": null,
   "metadata": {},
   "outputs": [],
   "source": [
    "# check if column names and types are the same across all similar datasets\n",
    "\n",
    "check_df_fields <- function(dflist) {\n",
    "    \n",
    "    # takes a list of dataframes as input\n",
    "    # uses Janitor compare_df_cols_same to check if colnames and types are the same\n",
    "    \n",
    "    # a evaluates to TRUE or FALSE\n",
    "    a <- compare_df_cols_same(dflist, bind_method = \"rbind\")\n",
    "    \n",
    "    \n",
    "    # set b as 'same', this updates if not the same\n",
    "    b <- 'Same'\n",
    "    if (isFALSE(a)) {\n",
    "        \n",
    "    # if  the cols and types are not the same b is updated to a dataframe examining differences\n",
    "        b <- compare_df_cols(dflist, return = \"mismatch\", bind_method = \"rbind\")\n",
    "        }\n",
    "    return(b)\n",
    "        \n",
    "   }   \n",
    "\n",
    "\n",
    "# run as follows for list df_list\n",
    "\n",
    "# list\n",
    "df_list <- list(df=df, df1=df1, df2=df2)\n",
    "\n",
    "check_df_fields(df_list)"
   ]
  },
  {
   "cell_type": "markdown",
   "metadata": {},
   "source": [
    "## 3. Build a helper function for basic data cleaning steps\n",
    "\n",
    "* You can add any additional operations in here\n",
    "\n",
    "\n",
    "* It requires a dataframe name and the format that date strings are in"
   ]
  },
  {
   "cell_type": "code",
   "execution_count": 18,
   "metadata": {},
   "outputs": [],
   "source": [
    "# clean up\n",
    "\n",
    "generic_clean_up <- function(df, dateformatstring) {\n",
    "    \n",
    "        # convert all column names to lower case\n",
    "        \n",
    "        names(df) <-tolower(names(df))\n",
    "    \n",
    "         # convert all date columns to date (for dataset with multiple date columns or one)\n",
    "        # for columns that have 'date' in title\n",
    "   \n",
    "    \n",
    "        if (is.null(ncol(df[,grepl (\"^.+date|^+date|date\",names(df))])) ){\n",
    "            df[,grepl (\"^.+date|^+date|date\",names(df))] <-as.Date(df[,grepl(\"^.+date|^+date|date\",names(df))], format=dateformatstring)\n",
    "\n",
    "\n",
    "        } else {\n",
    "            #df[,grepl (\"date\",names(df))] <-as.Date(df[,grepl(\"date\",names(df))], format=\"%d/%m/%Y\")\n",
    "            df[,grepl (\"^.+date|^+date|date\",names(df))] <-lapply(df[,grepl(\"^.+date|^+date|date\",names(df))], as.Date, format=dateformatstring)\n",
    "\n",
    "        }\n",
    "    \n",
    "            return(df)\n",
    "}\n",
    " \n",
    "\n",
    "\n",
    "# how to run\n",
    "df <-generic_clean_up(df, \"%d/%m/%Y\")\n",
    "\n",
    "# how to run on list of multiple dataframes, df_list\n",
    "\n",
    "df_list1 <-lapply(df_list, generic_clean_up)\n"
   ]
  },
  {
   "cell_type": "markdown",
   "metadata": {},
   "source": [
    "## 4. Convert string column of month and year only to first or last day of month\n",
    "\n",
    "* format MMYYYY to first or last day of month"
   ]
  },
  {
   "cell_type": "code",
   "execution_count": 60,
   "metadata": {},
   "outputs": [],
   "source": [
    "# use zoo package for partial date and to convert to last day of month\n",
    "# get rid of frac=1 to convert to first day\n",
    "\n",
    "MMYYYY_date_convert <- function(df, column, first_or_last) {     \n",
    "    \n",
    "        a <- first_or_last    \n",
    "        df[[column]] = ifelse(is.na(df[[column]]), NA,\n",
    "            if_else(nchar(df[[column]])==5, paste0('0', df[[column]]), \n",
    "                   as.character(df[[column]])))\n",
    "        \n",
    "        if (a == 'last') {\n",
    "            df[[column]] <-as.Date(as.yearmon(df[[column]], \"%m%Y\"), frac = 1)\n",
    "    }\n",
    "    \n",
    "        if (a == 'first') {\n",
    "                df[[column]] <-as.Date(as.yearmon(df[[column]], \"%m%Y\"))\n",
    "        }\n",
    "    \n",
    "        return(df)\n",
    "    }\n",
    "\n",
    "# how to use\n",
    "\n",
    "# fill in dataframe name, date_col name in MMYYYY format and 'first' or 'last' depending on whether you want to convert\n",
    "# to first of last day of month\n",
    "\n",
    "df <- MMYYYY_date_convert(df, 'date_col', 'last')"
   ]
  },
  {
   "cell_type": "markdown",
   "metadata": {},
   "source": [
    "## 5. Assign dataframe names back after using lapply to operate on a list of them\n",
    "\n",
    "* After you have used lapply to apply a function to a list of dataframes, you will need to reassign the dataframe names back\n",
    "\n",
    "\n",
    "* In this example the original list was called df_list and the list you want to assign names back to is called df_list1"
   ]
  },
  {
   "cell_type": "code",
   "execution_count": null,
   "metadata": {},
   "outputs": [],
   "source": [
    "# assign old dataframe names to new dataframes in the list\n",
    "for (i in 1:length(df_list)) {\n",
    "    assign(names(df_list)[[i]], df_list1[[i]])\n",
    "}"
   ]
  },
  {
   "cell_type": "markdown",
   "metadata": {},
   "source": [
    "## 6. Using if_else to create a categorical column and then convert to factor\n",
    "\n",
    "* This example creates a column of bmi categories"
   ]
  },
  {
   "cell_type": "code",
   "execution_count": null,
   "metadata": {},
   "outputs": [],
   "source": [
    "df$bmi_cat =if_else(df$age <19, 'Too young',\n",
    "            if_else(df$age>=19 & df$bmivalue <18.5, 'Underweight',\n",
    "            if_else(df$age>=19 & df$bmivalue >=18.5 & df$bmivalue <25, 'Healthy',\n",
    "            if_else(df$age>=19 & df$bmivalue >=25 & df$bmivalue <30, 'Overweight',       \n",
    "            if_else(df$age>=19 & df$bmivalue >=30 & df$bmivalue <40, 'Obese', \n",
    "            if_else(df$age>=19 & df$bmivalue >=40, 'Morbidly obese',\n",
    "                   'Unknown'))))) )\n",
    "\n",
    "\n",
    "df$bmi_cat <- factor(df$bmi_cat, ordered=TRUE,\n",
    "                    levels =c(\"Underweight\", \"Healthy\", \"Overweight\", \"Obese\", \"Morbidly obese\", \"Unknown\", \"Too young\"))\n"
   ]
  },
  {
   "cell_type": "markdown",
   "metadata": {},
   "source": [
    "## 7. Creating an age group field based on defined breaks\n",
    "\n",
    "* This requires an integer column called 'age'"
   ]
  },
  {
   "cell_type": "code",
   "execution_count": null,
   "metadata": {},
   "outputs": [],
   "source": [
    "agelabels <- c('Under 19', '19-49', '50-64', '65-74', '75-84', '85+')\n",
    "\n",
    "df$age_group <- cut(df$age, breaks= c(0, 18, 49, 64, 74, 85, 500), labels=agelabels, right=TRUE)    "
   ]
  },
  {
   "cell_type": "markdown",
   "metadata": {},
   "source": [
    "## 8. Drop or keep dataframe columns by name"
   ]
  },
  {
   "cell_type": "code",
   "execution_count": null,
   "metadata": {},
   "outputs": [],
   "source": [
    "# to drop columns by name\n",
    "\n",
    "df <- df[!names(df) %in% c(\"ID\", \"Age\", \"Results\")]\n",
    "\n",
    "# to keep columns by name\n",
    "\n",
    "df <- df[names(df) %in% c(\"UniqueID\", \"PostCode\", \"Occupation\")]\n"
   ]
  },
  {
   "cell_type": "markdown",
   "metadata": {},
   "source": [
    "## 9. Rename multiple dataframe columns"
   ]
  },
  {
   "cell_type": "code",
   "execution_count": null,
   "metadata": {},
   "outputs": [],
   "source": [
    "# put old names on the left and new names on the right\n",
    "\n",
    "ccg_rename_vector <- c('Ethnic.Origin'= 'ethnic_orig',\n",
    "                  'PersonAge'= 'age',\n",
    "                  'yearofbirth' = 'year_of_birth',\n",
    "                  'GPpracticecode' = 'practice_code',\n",
    "                  'GPpracticename' = 'practice_name',\n",
    "                  'Date.Of.Birth' = 'dob')\n",
    "                       \n",
    "\n",
    "# note that here we specify which library's rename function we are using, because dplyr also has one that works differently\n",
    "df <- plyr:::rename(df, ccg_rename_vector)"
   ]
  },
  {
   "cell_type": "markdown",
   "metadata": {},
   "source": [
    "## 10. Drop duplicate rows"
   ]
  },
  {
   "cell_type": "code",
   "execution_count": null,
   "metadata": {},
   "outputs": [],
   "source": [
    "# drop duplicates\n",
    "df <- distinct(df)"
   ]
  },
  {
   "cell_type": "markdown",
   "metadata": {},
   "source": [
    "## 11. Filter dataframe for specific values\n",
    "\n",
    "* In this case we want to filter for people aged over 18"
   ]
  },
  {
   "cell_type": "code",
   "execution_count": null,
   "metadata": {},
   "outputs": [],
   "source": [
    "df1 <- df %>% filter (df$age > 18)"
   ]
  },
  {
   "cell_type": "markdown",
   "metadata": {},
   "source": [
    "## 12. Convert integer year to first day of year"
   ]
  },
  {
   "cell_type": "code",
   "execution_count": null,
   "metadata": {},
   "outputs": [],
   "source": [
    "# convert integer year to first day of year\n",
    "df$birth_year <- as.Date(paste(df$birth_year, 1, 1, sep = \"-\"))"
   ]
  },
  {
   "cell_type": "markdown",
   "metadata": {},
   "source": [
    "## 13. Recode a dataframe column based on value in other column\n",
    "\n",
    "* In this case, we recode the sex to Male, where the person_id = A12"
   ]
  },
  {
   "cell_type": "code",
   "execution_count": null,
   "metadata": {},
   "outputs": [],
   "source": [
    "df$sex[df$person_id=='A12'] <- 'Male' "
   ]
  },
  {
   "cell_type": "markdown",
   "metadata": {},
   "source": [
    "## 14. Move a specific column to the start of a dataframe \n",
    "\n",
    "* In this case, person_id"
   ]
  },
  {
   "cell_type": "code",
   "execution_count": null,
   "metadata": {},
   "outputs": [],
   "source": [
    "df <- df %>% select(person_id, everything())"
   ]
  },
  {
   "cell_type": "markdown",
   "metadata": {},
   "source": [
    "## 15. Change dataframe column order"
   ]
  },
  {
   "cell_type": "code",
   "execution_count": null,
   "metadata": {},
   "outputs": [],
   "source": [
    "col_order <- c('person_id', 'age_group', 'year', 'test_result_1', 'visit_date')\n",
    "\n",
    "df <- df[, col_order]"
   ]
  },
  {
   "cell_type": "markdown",
   "metadata": {},
   "source": [
    "## 16. Drop multiple rows based on column values"
   ]
  },
  {
   "cell_type": "code",
   "execution_count": null,
   "metadata": {},
   "outputs": [],
   "source": [
    "df <- df[!df$person_id %in% c( 'C45','D19', 'F187'), ]"
   ]
  },
  {
   "cell_type": "markdown",
   "metadata": {},
   "source": [
    "## 17. Adding up a sum across a row from a specific column to another one\n",
    "\n",
    "* In this example we are adding up total appointments from January to December AND we are speciying to count NA as 0\n",
    "\n",
    "\n",
    "* This example will work for consecutive columns"
   ]
  },
  {
   "cell_type": "code",
   "execution_count": null,
   "metadata": {},
   "outputs": [],
   "source": [
    "df$total_appointments <-rowSums(subset(df, select=totalappointmentsJanuary:totalappointmentsDecember), na.rm=TRUE) * NA ^ (rowSums(!is.na((subset(df, select=totalappointmentsJanuary:totalappointmentsDecember))))==0)"
   ]
  },
  {
   "cell_type": "markdown",
   "metadata": {},
   "source": [
    "## 18. Applying any operation to all of the dataframes in a list\n",
    "\n",
    "* Note that this returns a list of dataframes, without the original names\n",
    "\n",
    "\n",
    "* As before, you will need to assign back the orignal names if you want them"
   ]
  },
  {
   "cell_type": "code",
   "execution_count": null,
   "metadata": {},
   "outputs": [],
   "source": [
    "df_list2 <-lapply(df_list1, function(df) {\n",
    "    \n",
    "    #any function here applied to df\n",
    "\n",
    "        return(df)\n",
    "})"
   ]
  },
  {
   "cell_type": "markdown",
   "metadata": {},
   "source": [
    "## 19. Get unique list of person ids from multiple dataframes\n",
    "\n",
    "* This gets a list from each dataframe, combines the rows and drops duplicates"
   ]
  },
  {
   "cell_type": "code",
   "execution_count": null,
   "metadata": {},
   "outputs": [],
   "source": [
    "# get list of pt_id who are 50+\n",
    "person1 <- df1 %>% select(person_id)\n",
    "person2 <- df2 %>% select(person_id)\n",
    "person3 <- df3 %>% select(person_id)\n",
    "\n",
    "# create master for adult social care filtering\n",
    "person_master <- rbind(person1, person2, person3)\n",
    "person_master <- distinct(person_master)"
   ]
  },
  {
   "cell_type": "markdown",
   "metadata": {},
   "source": [
    "## 20. Assign the tax year to a date\n",
    "\n",
    "* There are multiple ways to assign a date to a tax year\n",
    "\n",
    "\n",
    "* This one requires that your date column is in date format\n",
    "\n",
    "\n",
    "* We use 1st April as start of tax year. This returns a string in format 2017/2018"
   ]
  },
  {
   "cell_type": "code",
   "execution_count": null,
   "metadata": {},
   "outputs": [],
   "source": [
    "df$date = as.Date(df$date)\n",
    "\n",
    "# we use yearmon to extract the month and year and count forward 9 months to get the upper year of the tax year\n",
    "# we paste the upper year of the tax year minus 1, a forward slash, and the upper year of the tax year\n",
    "df$date <- paste0(as.integer(as.yearmon(df$date)+ 9/12)-1, '/', as.integer(as.yearmon(df$date)+ 9/12))"
   ]
  },
  {
   "cell_type": "markdown",
   "metadata": {},
   "source": [
    "## 21. Drop rows with NA in one column"
   ]
  },
  {
   "cell_type": "code",
   "execution_count": null,
   "metadata": {},
   "outputs": [],
   "source": [
    "df <- df %>% drop_na(age_cat)"
   ]
  },
  {
   "cell_type": "markdown",
   "metadata": {},
   "source": [
    "## 22. Extract n characters as string from a field\n",
    "\n",
    "* Can use this like Excel function 'Right' or 'Left'\n",
    "\n",
    "\n",
    "* Use negative numbers to count from the right, or positive numbers to count from the left\n",
    "\n",
    "\n",
    "* In this example we extract the last 4 characters from the appointment date field and save in new variable"
   ]
  },
  {
   "cell_type": "code",
   "execution_count": null,
   "metadata": {},
   "outputs": [],
   "source": [
    "df$appointment_year <- str_sub(df$appointment_date, -4, -1)"
   ]
  },
  {
   "cell_type": "markdown",
   "metadata": {},
   "source": [
    "## 23. Append extra text to column names \n",
    "\n",
    "* In this case we are skipping the first column\n",
    "\n",
    "\n",
    "* We append the suffix gp_ and the highest value of the year variable in this dataframe to each column\n",
    "\n",
    "\n",
    "* Note that we choose an underscore as a separator"
   ]
  },
  {
   "cell_type": "code",
   "execution_count": null,
   "metadata": {},
   "outputs": [],
   "source": [
    "names(df)[-1] <- paste(names(df)[-1] , paste0(\"gp_\", max(df$year)), sep = \"_\")"
   ]
  },
  {
   "cell_type": "markdown",
   "metadata": {},
   "source": [
    "## 24. Count number of NA values across specified columns in each row of the dataframe \n",
    "\n",
    "* In this example, we drop rows where count of NA is greater than a certain threshold\n",
    "\n",
    "\n",
    "* We want all columns including 'year_of_birth'\n",
    "\n",
    "\n",
    "* MARGIN = 1 means to apply the function across the row"
   ]
  },
  {
   "cell_type": "code",
   "execution_count": null,
   "metadata": {},
   "outputs": [],
   "source": [
    "#first count na across year of birth cols as most likely to not be blank\n",
    "df$sums <- apply(df[,grepl (\"^.+year_of_birth|^+year_of_birth|year_of_birth\",names(df))], MARGIN = 1, function(x) sum(is.na(x)))\n",
    "                     \n",
    "# drop rows\n",
    "df1 <- df[(df$sums < 6),]                     \n"
   ]
  },
  {
   "cell_type": "markdown",
   "metadata": {},
   "source": [
    "## 25. Sort dataframe columns alphabetically\n",
    "\n",
    "* Decereasing= FALSE is the default and means sort from A-Z, change to TRUE to sort from Z-A"
   ]
  },
  {
   "cell_type": "code",
   "execution_count": null,
   "metadata": {},
   "outputs": [],
   "source": [
    "# order columns\n",
    "df <- df[,order(colnames(df), decreasing=FALSE)]  "
   ]
  },
  {
   "cell_type": "markdown",
   "metadata": {},
   "source": [
    "## 26. Check min and max of each date column in a quick way\n",
    "\n",
    "* This creates a dataframe with the min and max of each field with date in the title\n",
    "\n",
    "\n",
    "* Note the use of the summarise_all function to apply summary function to each column\n",
    "\n",
    "\n",
    "* Note also the use of as.data.frame to store the results in a dataframe"
   ]
  },
  {
   "cell_type": "code",
   "execution_count": null,
   "metadata": {},
   "outputs": [],
   "source": [
    "# checkfor nonsensical dates\n",
    "\n",
    "Max <-df[,grepl (\"^.+date|^+date|date\",names(df))] %>%\n",
    "    summarise_all(max, na.rm=TRUE) %>%\n",
    "    as.data.frame\n",
    "    Max$Measure = 'Max'\n",
    "\n",
    "Min <-df[,grepl (\"^.+date|^+date|date\",names(df))] %>%\n",
    "    summarise_all(min, na.rm=TRUE) %>%\n",
    "    as.data.frame\n",
    "    Min$Measure = 'Min'\n",
    "\n",
    "Sums <- rbind(Min, Max)\n",
    "\n",
    "Sums %>% select(Measure, everything())"
   ]
  },
  {
   "cell_type": "markdown",
   "metadata": {},
   "source": [
    "## 27. Find the minimum or maximum value (numeric or dates) across columns in a dataframe row\n",
    "\n",
    "* Note we have used column numbers to refer to which columns we want to look at\n",
    "\n",
    "\n",
    "* FUN = min, but can put in any function here, max etc\n",
    "\n",
    "\n",
    "* na.rm=TRUE means we ignore columns with NA\n",
    "\n",
    "\n",
    "* We can just put 1, instead of writing out MARGIN=1"
   ]
  },
  {
   "cell_type": "code",
   "execution_count": null,
   "metadata": {},
   "outputs": [],
   "source": [
    "df$lowest_value <- apply(df[, c(8:15,17:18) ], 1, FUN=min, na.rm=TRUE)"
   ]
  },
  {
   "cell_type": "markdown",
   "metadata": {},
   "source": [
    "## 28. Find the nth lowest date or number across certain columns\n",
    "\n",
    "* Note that we can change to decreasing=TRUE for nth highest"
   ]
  },
  {
   "cell_type": "code",
   "execution_count": null,
   "metadata": {},
   "outputs": [],
   "source": [
    "# functions for second and third lowest\n",
    "\n",
    "minn2<-function(x) x[order(x,decreasing=FALSE)[2]]\n",
    "\n",
    "minn3<-function(x) x[order(x,decreasing=FALSE)[3]]\n",
    "\n",
    "df$third_lowest_value <- apply(df[, c(8:15,17:18) ], 1, FUN=minn3)\n"
   ]
  },
  {
   "cell_type": "markdown",
   "metadata": {},
   "source": [
    "## 29 - Find number of days/weeks/months between two dates (in date format)\n",
    "\n",
    "* Difftime can do seconds, minutes, hours, days, weeks\n",
    "\n",
    "\n",
    "* To get months or years, divide/ multiply appropriately but remember the word 'weeks' will still be attached\n",
    "\n",
    "\n",
    "* Here we have also rounded to 2 decimal places"
   ]
  },
  {
   "cell_type": "code",
   "execution_count": null,
   "metadata": {},
   "outputs": [],
   "source": [
    "# number of weeks between\n",
    "df$how_many_days<- round((difftime(df$date_1,df$date_2 , units= 'weeks'),digits=2)\n",
    "\n",
    "# number of months between\n",
    "df$how_many_days<- round(((difftime(df$date_1,df$date_2 , units= 'weeks')/52)*12),digits=2)"
   ]
  }
 ],
 "metadata": {
  "kernelspec": {
   "display_name": "R",
   "language": "R",
   "name": "ir"
  },
  "language_info": {
   "codemirror_mode": "r",
   "file_extension": ".r",
   "mimetype": "text/x-r-source",
   "name": "R",
   "pygments_lexer": "r",
   "version": "3.6.1"
  }
 },
 "nbformat": 4,
 "nbformat_minor": 4
}
